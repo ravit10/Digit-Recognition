{
 "cells": [
  {
   "cell_type": "code",
   "execution_count": 1,
   "metadata": {},
   "outputs": [
    {
     "name": "stderr",
     "output_type": "stream",
     "text": [
      "C:\\Users\\RavitThapar\\Anaconda3\\lib\\site-packages\\h5py\\__init__.py:36: FutureWarning: Conversion of the second argument of issubdtype from `float` to `np.floating` is deprecated. In future, it will be treated as `np.float64 == np.dtype(float).type`.\n",
      "  from ._conv import register_converters as _register_converters\n"
     ]
    }
   ],
   "source": [
    "%load_ext autoreload\n",
    "%autoreload 2\n",
    "import numpy as np\n",
    "import input_data\n",
    "import import_ipynb\n",
    "import Digit_Recognition_DL\n",
    "import cv2\n",
    "from collections import deque"
   ]
  },
  {
   "cell_type": "markdown",
   "metadata": {},
   "source": [
    "### Extracting Train and Test dataset"
   ]
  },
  {
   "cell_type": "code",
   "execution_count": 2,
   "metadata": {},
   "outputs": [
    {
     "name": "stdout",
     "output_type": "stream",
     "text": [
      "Extracting MNIST_data/train-images-idx3-ubyte.gz\n",
      "Extracting MNIST_data/train-labels-idx1-ubyte.gz\n",
      "Extracting MNIST_data/t10k-images-idx3-ubyte.gz\n",
      "Extracting MNIST_data/t10k-labels-idx1-ubyte.gz\n",
      "Extracting MNIST_data/train-images-idx3-ubyte.gz\n",
      "Extracting MNIST_data/train-labels-idx1-ubyte.gz\n",
      "Extracting MNIST_data/t10k-images-idx3-ubyte.gz\n",
      "Extracting MNIST_data/t10k-labels-idx1-ubyte.gz\n"
     ]
    }
   ],
   "source": [
    "mnist = input_data.read_data_sets('MNIST_data/', one_hot = False)\n",
    "train_X, train_Y = mnist.train.next_batch(5000)\n",
    "train_Y_OneHot = (np.arange(np.max(train_Y) + 1) == train_Y[:, None]).astype(int)\n",
    "\n",
    "mnist = input_data.read_data_sets('MNIST_data/', one_hot = False)\n",
    "test_X, test_Y = mnist.train.next_batch(1000)"
   ]
  },
  {
   "cell_type": "markdown",
   "metadata": {},
   "source": [
    "### Train the Network and get the parameters"
   ]
  },
  {
   "cell_type": "code",
   "execution_count": 3,
   "metadata": {},
   "outputs": [
    {
     "name": "stdout",
     "output_type": "stream",
     "text": [
      "Cost after iteration 0: 2.302588\n",
      "Cost after iteration 100: 2.299462\n",
      "Cost after iteration 200: 2.299440\n",
      "Cost after iteration 300: 2.299390\n",
      "Cost after iteration 400: 2.299175\n",
      "Cost after iteration 500: 2.255203\n",
      "Cost after iteration 600: 1.518497\n",
      "Cost after iteration 700: 1.230595\n",
      "Cost after iteration 800: 0.475567\n",
      "Cost after iteration 900: 0.216467\n",
      "Cost after iteration 1000: 0.086709\n",
      "Train accuracy: {} % 99.36\n",
      "Test accuracy: {} % 99.5\n"
     ]
    }
   ],
   "source": [
    "layer_dims = [784, 100, 80, 50, 10]\n",
    "params_DL = Digit_Recognition_DL.model_DL(train_X.T, train_Y_OneHot.T, train_Y, test_X.T, test_Y, \n",
    "                                          layer_dims, alpha = 0.5, num_iterations = 1100, print_cost = True)"
   ]
  },
  {
   "cell_type": "markdown",
   "metadata": {},
   "source": [
    "### Verify results with a test sample"
   ]
  },
  {
   "cell_type": "code",
   "execution_count": 4,
   "metadata": {},
   "outputs": [
    {
     "data": {
      "text/plain": [
       "5"
      ]
     },
     "execution_count": 4,
     "metadata": {},
     "output_type": "execute_result"
    }
   ],
   "source": [
    "test_Y[666]"
   ]
  },
  {
   "cell_type": "code",
   "execution_count": 5,
   "metadata": {},
   "outputs": [],
   "source": [
    "pred = Digit_Recognition_DL.predict(params_DL, test_X[666].reshape(test_X[666].shape[0], 1))"
   ]
  },
  {
   "cell_type": "code",
   "execution_count": 6,
   "metadata": {},
   "outputs": [
    {
     "data": {
      "text/plain": [
       "array([5], dtype=int64)"
      ]
     },
     "execution_count": 6,
     "metadata": {},
     "output_type": "execute_result"
    }
   ],
   "source": [
    "pred"
   ]
  },
  {
   "cell_type": "markdown",
   "metadata": {},
   "source": [
    "### Using OpenCV to capture digits \"real-time\""
   ]
  },
  {
   "cell_type": "code",
   "execution_count": 7,
   "metadata": {},
   "outputs": [],
   "source": [
    "videoStream = cv2.VideoCapture(0)\n",
    "\n",
    "# define range of blue color in HSV\n",
    "blueLower = np.array([110, 50, 50])\n",
    "blueUpper = np.array([130, 255, 255])\n",
    "\n",
    "pts = deque(maxlen = 512)\n",
    "blackBoard = np.zeros((480, 640, 3), dtype = np.uint8)\n",
    "digit = np.zeros((200, 200, 3), dtype = np.uint8)\n",
    "finalResult = ''"
   ]
  },
  {
   "cell_type": "code",
   "execution_count": 10,
   "metadata": {},
   "outputs": [
    {
     "name": "stdout",
     "output_type": "stream",
     "text": [
      "Largest Contour: 72.0\n",
      "Largest Contour: 99.0\n",
      "Largest Contour: 191.0\n",
      "Largest Contour: 155.0\n",
      "Largest Contour: 108.5\n",
      "Largest Contour: 72.0\n",
      "Largest Contour: 141.5\n",
      "Largest Contour: 177.0\n",
      "Largest Contour: 72.0\n",
      "Largest Contour: 72.0\n",
      "Largest Contour: 72.0\n",
      "Largest Contour: 216.5\n",
      "Largest Contour: 99.0\n",
      "Largest Contour: 114.0\n",
      "Largest Contour: 81.0\n",
      "Largest Contour: 135.5\n",
      "Largest Contour: 160.0\n",
      "Largest Contour: 176.0\n",
      "Largest Contour: 64.0\n",
      "Largest Contour: 72.0\n",
      "Largest Contour: 97.5\n",
      "Largest Contour: 72.0\n",
      "Largest Contour: 88.0\n",
      "Largest Contour: 72.0\n",
      "Largest Contour: 72.0\n",
      "Largest Contour: 148.0\n",
      "Largest Contour: 72.0\n",
      "Largest Contour: 97.5\n",
      "Largest Contour: 72.0\n",
      "Largest Contour: 97.5\n",
      "Largest Contour: 90.0\n",
      "Largest Contour: 89.5\n",
      "Largest Contour: 72.0\n",
      "Largest Contour: 214.5\n",
      "Largest Contour: 81.0\n",
      "Largest Contour: 72.0\n",
      "Largest Contour: 72.0\n",
      "Largest Contour: 115.0\n",
      "Largest Contour: 143.0\n",
      "Largest Contour: 214.0\n",
      "Largest Contour: 137.5\n",
      "Largest Contour: 72.0\n",
      "Largest Contour: 97.5\n",
      "Largest Contour: 167.5\n",
      "Largest Contour: 132.0\n",
      "Largest Contour: 72.0\n",
      "Largest Contour: 90.0\n",
      "Largest Contour: 117.0\n",
      "Largest Contour: 81.0\n",
      "Largest Contour: 156.0\n",
      "Largest Contour: 81.0\n",
      "Largest Contour: 72.0\n",
      "Largest Contour: 64.0\n",
      "Largest Contour: 72.0\n",
      "Largest Contour: 72.0\n",
      "Largest Contour: 64.0\n",
      "Largest Contour: 72.0\n",
      "Largest Contour: 115.5\n",
      "Largest Contour: 89.5\n",
      "Largest Contour: 143.5\n",
      "Largest Contour: 72.0\n",
      "Largest Contour: 64.0\n",
      "Largest Contour: 72.0\n",
      "Largest Contour: 72.0\n",
      "Largest Contour: 80.0\n",
      "Largest Contour: 115.5\n",
      "Largest Contour: 106.0\n",
      "Largest Contour: 80.0\n",
      "Largest Contour: 114.0\n",
      "Largest Contour: 64.0\n",
      "Largest Contour: 80.0\n",
      "Largest Contour: 88.0\n",
      "Largest Contour: 88.0\n",
      "Largest Contour: 72.0\n",
      "Largest Contour: 72.0\n",
      "Largest Contour: 72.0\n",
      "Largest Contour: 115.0\n",
      "Largest Contour: 132.0\n",
      "Largest Contour: 143.0\n",
      "Largest Contour: 88.0\n",
      "Largest Contour: 88.0\n",
      "Largest Contour: 140.0\n",
      "Largest Contour: 118.0\n",
      "Largest Contour: 121.5\n",
      "Largest Contour: 124.0\n",
      "Largest Contour: 64.0\n",
      "Largest Contour: 115.0\n",
      "Largest Contour: 88.0\n",
      "Largest Contour: 80.0\n",
      "Largest Contour: 129.5\n",
      "Largest Contour: 158.0\n",
      "Largest Contour: 72.0\n",
      "Largest Contour: 72.0\n",
      "Largest Contour: 88.5\n",
      "Largest Contour: 110.0\n",
      "Largest Contour: 88.0\n",
      "Largest Contour: 81.0\n",
      "Largest Contour: 64.0\n",
      "Largest Contour: 88.5\n",
      "Largest Contour: 81.0\n",
      "Largest Contour: 115.5\n",
      "Largest Contour: 125.0\n",
      "Largest Contour: 104.0\n",
      "Largest Contour: 104.0\n",
      "Largest Contour: 112.0\n",
      "Largest Contour: 118.0\n",
      "Largest Contour: 153.5\n",
      "Largest Contour: 72.0\n",
      "Largest Contour: 90.0\n",
      "Largest Contour: 81.0\n",
      "Largest Contour: 81.0\n",
      "Largest Contour: 114.0\n",
      "Largest Contour: 119.5\n",
      "Largest Contour: 127.0\n",
      "Largest Contour: 119.5\n",
      "Largest Contour: 132.5\n",
      "Largest Contour: 98.5\n",
      "Largest Contour: 72.0\n",
      "Largest Contour: 103.0\n",
      "Largest Contour: 106.5\n",
      "Largest Contour: 108.5\n",
      "Largest Contour: 80.5\n",
      "Largest Contour: 147.0\n",
      "Largest Contour: 115.5\n",
      "Largest Contour: 88.0\n",
      "Largest Contour: 72.0\n",
      "Largest Contour: 263.0\n",
      "Largest Contour: 130.0\n",
      "Largest Contour: 72.0\n",
      "Largest Contour: 118.0\n",
      "Largest Contour: 72.0\n",
      "Largest Contour: 90.0\n",
      "Largest Contour: 81.0\n",
      "Largest Contour: 72.0\n",
      "Largest Contour: 88.0\n",
      "Largest Contour: 72.0\n",
      "Largest Contour: 106.5\n",
      "Largest Contour: 72.0\n",
      "Largest Contour: 121.5\n",
      "Largest Contour: 339.0\n",
      "Largest Contour: 339.0\n"
     ]
    }
   ],
   "source": [
    "while (videoStream.isOpened()):\n",
    "    # Get the current frame\n",
    "    ret, frame = videoStream.read()\n",
    "    \n",
    "    # Flip the image since it is captured in the reversed form\n",
    "    frame = cv2.flip(frame, 1)\n",
    "    \n",
    "    # Convert image to the HSV color space\n",
    "    hsv = cv2.cvtColor(frame, cv2.COLOR_BGR2HSV)\n",
    "    \n",
    "    kernel = np.ones((5, 5), dtype = np.uint8)\n",
    "    # Threshold the HSV image to get only blue colors\n",
    "    mask = cv2.inRange(hsv, blueLower, blueUpper)\n",
    "    \n",
    "    # Perform a series of dilations and erosions \n",
    "    # to remove any small blobs left in the mask\n",
    "    mask = cv2.erode(mask, kernel, iterations = 2)\n",
    "    mask = cv2.morphologyEx(mask, cv2.MORPH_OPEN, kernel)\n",
    "    mask = cv2.dilate(mask, kernel, iterations = 1)\n",
    "    result = cv2.bitwise_and(frame, frame, mask = mask)\n",
    "    \n",
    "    # Find contours in the mask\n",
    "    contours, heir = cv2.findContours(mask.copy(), cv2.RETR_EXTERNAL, cv2.CHAIN_APPROX_SIMPLE)[-2:]\n",
    "    centroid = None\n",
    "    \n",
    "    # Only proceed if at least one contour was found\n",
    "    if len(contours) > 0:\n",
    "        # find the largest contour in the mask, then use it\n",
    "        # to compute the minimum enclosing circle and centroid\n",
    "        largestContour = max(contours, key = cv2.contourArea)\n",
    "        print('Largest Contour: ' + str(cv2.contourArea(largestContour)))\n",
    "        \n",
    "        if cv2.contourArea(largestContour) > 70:\n",
    "            # Center and radius of the Contour circle\n",
    "            ((x, y), radius) = cv2.minEnclosingCircle(largestContour)\n",
    "            M = cv2.moments(largestContour)\n",
    "            centroid = (int(M['m10']/M['m00']), int(M['m01']/M['m00']))\n",
    "\n",
    "            cv2.circle(frame, (int(x), int(y)), int(radius), (0, 255, 255), 2)\n",
    "            cv2.circle(frame, centroid, 5, (0, 0, 255), -1)\n",
    "            # Update points queue with the centroid\n",
    "            pts.appendleft(centroid)\n",
    "            \n",
    "            # draw the contrail of the digit\n",
    "            # loop over the set of tracked points\n",
    "            for i in range(1, len(pts)):\n",
    "                # if either of the tracked points are None, ignore them\n",
    "                if pts[i - 1] is None or pts[i] is None:\n",
    "                    continue\n",
    "                cv2.line(blackBoard, pts[i - 1], pts[i], (255, 255, 255), 7)\n",
    "                cv2.line(frame, pts[i - 1], pts[i], (0, 0, 255), 2)\n",
    "                \n",
    "    elif len(contours) == 0:\n",
    "        if len(pts) != []:\n",
    "            blackBoard_gray = cv2.cvtColor(blackBoard, cv2.COLOR_BGR2GRAY)\n",
    "            blurred = cv2.medianBlur(blackBoard_gray, 15)\n",
    "            blurred = cv2.GaussianBlur(blurred, (5, 5), 0)\n",
    "            thresh = cv2.threshold(blurred, 0, 255, cv2.THRESH_BINARY + cv2.THRESH_OTSU)[1]\n",
    "            \n",
    "            blackBoard_contour = cv2.findContours(thresh.copy(), cv2.RETR_TREE, cv2.CHAIN_APPROX_NONE)[1]\n",
    "            if len(blackBoard_contour) > 0:\n",
    "                largest_BB_contour = max(blackBoard_contour, key = cv2.contourArea)\n",
    "                #print(cv2.contourArea(largest_BB_contour))\n",
    "                \n",
    "                if cv2.contourArea(largest_BB_contour) > 2000: \n",
    "                    x, y, w, h = cv2.boundingRect(largest_BB_contour)\n",
    "                    digit = blackBoard_gray[y:y+h, x:x+w]\n",
    "                    digitImage = cv2.resize(digit, (28, 28))\n",
    "                    digitImage = np.array(digitImage)\n",
    "                    digitImage = digitImage.flatten()\n",
    "                    digitImage = digitImage.reshape(digitImage.shape[0], 1)\n",
    "                    \n",
    "                    # Prediction\n",
    "                    finalResult = Digit_Recognition_DL.predict(params_DL, digitImage)\n",
    "                    \n",
    "        pts = deque(maxlen = 512)\n",
    "        blackBoard = np.zeros((480, 640, 3), dtype = np.uint8)\n",
    "        \n",
    "    # Display result on the video frame\n",
    "    cv2.putText(frame, '5-L Deep Network: ' + str(finalResult), (10, 470), \n",
    "                   cv2.FONT_HERSHEY_SIMPLEX, 0.7, (0, 0, 255), 2)\n",
    "    cv2.imshow('Result', frame)\n",
    "        \n",
    "    key = cv2.waitKey(10) & 0xFF\n",
    "    # Exit when Esc key is pressed\n",
    "    if key == 27:\n",
    "        break\n",
    "\n",
    "# Clean-up\n",
    "cv2.destroyAllWindows()\n",
    "        "
   ]
  },
  {
   "cell_type": "code",
   "execution_count": null,
   "metadata": {},
   "outputs": [],
   "source": []
  },
  {
   "cell_type": "code",
   "execution_count": null,
   "metadata": {},
   "outputs": [],
   "source": []
  },
  {
   "cell_type": "code",
   "execution_count": null,
   "metadata": {},
   "outputs": [],
   "source": []
  },
  {
   "cell_type": "code",
   "execution_count": null,
   "metadata": {},
   "outputs": [],
   "source": []
  },
  {
   "cell_type": "code",
   "execution_count": null,
   "metadata": {},
   "outputs": [],
   "source": []
  }
 ],
 "metadata": {
  "kernelspec": {
   "display_name": "Python 3",
   "language": "python",
   "name": "python3"
  },
  "language_info": {
   "codemirror_mode": {
    "name": "ipython",
    "version": 3
   },
   "file_extension": ".py",
   "mimetype": "text/x-python",
   "name": "python",
   "nbconvert_exporter": "python",
   "pygments_lexer": "ipython3",
   "version": "3.6.4"
  }
 },
 "nbformat": 4,
 "nbformat_minor": 2
}
